{
 "cells": [
  {
   "cell_type": "code",
   "execution_count": 1,
   "metadata": {},
   "outputs": [],
   "source": [
    "import numpy as np\n",
    "from sklearn import datasets\n",
    "import time\n",
    "import matplotlib.pyplot as plt\n",
    "from sklearn.utils import shuffle\n",
    "from sklearn.model_selection import train_test_split"
   ]
  },
  {
   "cell_type": "code",
   "execution_count": 2,
   "metadata": {
    "slideshow": {
     "slide_type": "-"
    }
   },
   "outputs": [
    {
     "name": "stdout",
     "output_type": "stream",
     "text": [
      "0.39595822414358944\n"
     ]
    }
   ],
   "source": [
    "iris = datasets.load_iris()\n",
    "x,y = iris['data'],iris['target']\n",
    "\n",
    "x, y = shuffle(x, y, random_state=0)\n",
    "x, x_test, y, y_test = train_test_split(x, y, test_size=0.10, random_state=1)\n",
    "\n",
    "def sigmoid(x):\n",
    "    return 1/(1+np.exp(-x))\n",
    "\n",
    "def softmax(x):\n",
    "    return np.exp(x)/np.sum(np.exp(x),axis=1).reshape(x.shape[0],1)\n",
    "\n",
    "num_labels = 3\n",
    "\n",
    "x_std = ((x - np.mean(x,axis=0))/(np.std(x,axis=0)))\n",
    "weights = np.random.rand(5,3)\n",
    "x_std=np.hstack((x_std,np.ones((x_std.shape[0],1))))\n",
    "y = (np.arange(num_labels)==y[:,None]).astype(np.float32)\n",
    "yhat=np.dot(x_std,weights)\n",
    "#yhat=sigmoid(yhat)\n",
    "yhat=softmax(yhat)\n",
    "cost = -np.multiply(np.log(yhat), y)\n",
    "cost = np.mean(cost)\n",
    "print(cost)\n",
    "\n",
    "cost_plt=[]\n",
    "acc_plt=[]"
   ]
  },
  {
   "cell_type": "code",
   "execution_count": 3,
   "metadata": {
    "scrolled": true
   },
   "outputs": [
    {
     "name": "stdout",
     "output_type": "stream",
     "text": [
      "0.01574263295523555\n",
      "0.9851851851851852\r"
     ]
    },
    {
     "data": {
      "image/png": "[encoded data removed]",
      "text/plain": [
       "<matplotlib.figure.Figure at 0x1f359b63128>"
      ]
     },
     "metadata": {},
     "output_type": "display_data"
    },
    {
     "data": {
      "image/png": "[encoded data removed]",
      "text/plain": [
       "<matplotlib.figure.Figure at 0x1f35ce38c88>"
      ]
     },
     "metadata": {},
     "output_type": "display_data"
    }
   ],
   "source": [
    "epochs = 15000\n",
    "lr = 0.1\n",
    "for i in range(epochs):\n",
    "    a = np.multiply(yhat,(1- yhat))\n",
    "    b = np.divide((-y),(yhat))\n",
    "    y_up = np.multiply(a,b)\n",
    "    weights = weights - (lr)*np.dot(np.transpose(x_std),y_up)/x_std.shape[0]\n",
    "    yhat=np.dot(x_std,weights)\n",
    "    yhat=softmax(yhat)\n",
    "    cost = -np.multiply(np.log(yhat), y)\n",
    "    cost = np.mean(cost)\n",
    "    cost_plt.append(cost)\n",
    "    acc = sum(np.argmax(y,axis=1)==np.argmax(yhat,axis=1))/x_std.shape[0]\n",
    "    acc_plt.append(acc)\n",
    "\n",
    "print(cost) \n",
    "print(acc, end='\\r')\n",
    "plt.plot(cost_plt)\n",
    "plt.show()\n",
    "plt.plot(acc_plt,color='C1')\n",
    "plt.show()"
   ]
  },
  {
   "cell_type": "code",
   "execution_count": 4,
   "metadata": {},
   "outputs": [],
   "source": [
    "x_test_std = ((x_test - np.mean(x,axis=0))/(np.std(x,axis=0)))\n",
    "x_test_std=np.hstack((x_test_std,np.ones((x_test_std.shape[0],1))))\n",
    "y_test = (np.arange(num_labels)==y_test[:,None]).astype(np.float32)\n",
    "ypred=np.dot(x_test_std,weights)\n",
    "ypredhat=softmax(ypred)"
   ]
  },
  {
   "cell_type": "code",
   "execution_count": 5,
   "metadata": {},
   "outputs": [
    {
     "name": "stdout",
     "output_type": "stream",
     "text": [
      "[[0. 1. 0.]\n",
      " [0. 0. 1.]\n",
      " [1. 0. 0.]\n",
      " [0. 1. 0.]\n",
      " [0. 0. 1.]\n",
      " [0. 0. 1.]\n",
      " [0. 1. 0.]\n",
      " [1. 0. 0.]\n",
      " [1. 0. 0.]\n",
      " [1. 0. 0.]\n",
      " [0. 0. 1.]\n",
      " [0. 0. 1.]\n",
      " [0. 1. 0.]\n",
      " [0. 0. 1.]\n",
      " [1. 0. 0.]]\n",
      "[[1.05018356e-36 9.51878580e-01 4.81214198e-02]\n",
      " [5.51294052e-57 2.37338518e-01 7.62661482e-01]\n",
      " [1.00000000e+00 6.31235839e-22 8.91410457e-33]\n",
      " [1.63172499e-35 9.30339381e-01 6.96606193e-02]\n",
      " [2.59141550e-58 1.32670657e-03 9.98673293e-01]\n",
      " [8.30469984e-36 1.16311027e-01 8.83688973e-01]\n",
      " [1.16733001e-33 2.64820858e-01 7.35179142e-01]\n",
      " [1.00000000e+00 7.68545288e-27 8.12479361e-39]\n",
      " [1.00000000e+00 2.87038748e-21 1.17037521e-31]\n",
      " [1.00000000e+00 2.89438266e-31 2.68817541e-44]\n",
      " [3.13101735e-53 3.69338098e-03 9.96306619e-01]\n",
      " [8.97939594e-57 8.93903390e-06 9.99991061e-01]\n",
      " [5.03582211e-38 9.87317246e-01 1.26827541e-02]\n",
      " [3.43536663e-76 2.20597279e-04 9.99779403e-01]\n",
      " [1.00000000e+00 2.74079495e-28 3.71597358e-39]]\n",
      "0.9333333333333333\n"
     ]
    }
   ],
   "source": [
    "print(y_test)\n",
    "print(ypredhat)\n",
    "acc = sum(np.argmax(ypredhat,axis=1)==np.argmax(y_test,axis=1))/x_test_std.shape[0]\n",
    "print(acc)"
   ]
  }
 ],
 "metadata": {
  "celltoolbar": "Slideshow",
  "kernelspec": {
   "display_name": "Python 3",
   "language": "python",
   "name": "python3"
  },
  "language_info": {
   "codemirror_mode": {
    "name": "ipython",
    "version": 3
   },
   "file_extension": ".py",
   "mimetype": "text/x-python",
   "name": "python",
   "nbconvert_exporter": "python",
   "pygments_lexer": "ipython3",
   "version": "3.5.0"
  }
 },
 "nbformat": 4,
 "nbformat_minor": 2
}
